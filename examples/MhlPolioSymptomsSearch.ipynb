{
 "cells": [
  {
   "cell_type": "code",
   "execution_count": 1,
   "metadata": {
    "collapsed": true
   },
   "outputs": [],
   "source": [
    "import de.l3s.archivespark._\n",
    "import de.l3s.archivespark.implicits._\n",
    "import de.l3s.archivespark.enrich._\n",
    "import de.l3s.archivespark.enrich.functions._\n",
    "import edu.harvard.countway.mhl.archivespark._\n",
    "import edu.harvard.countway.mhl.archivespark.search._"
   ]
  },
  {
   "cell_type": "code",
   "execution_count": 2,
   "metadata": {
    "collapsed": true
   },
   "outputs": [],
   "source": [
    "val query = MhlSearchOptions(query = \"polio\", collections = MhlCollections.Statemedicalsocietyjournals)"
   ]
  },
  {
   "cell_type": "code",
   "execution_count": 3,
   "metadata": {
    "collapsed": true
   },
   "outputs": [],
   "source": [
    "val rdd = ArchiveSpark.load(sc, MhlSearchSpec(query))"
   ]
  },
  {
   "cell_type": "code",
   "execution_count": 4,
   "metadata": {
    "collapsed": true
   },
   "outputs": [],
   "source": [
    "val symptomSet = Seq(\"headache\", \"neck\", \"back\", \"abdominal\", \"extremity\", \"fever\", \"vomiting\", \"lethargy\", \"irritability\")"
   ]
  },
  {
   "cell_type": "code",
   "execution_count": 5,
   "metadata": {
    "collapsed": true
   },
   "outputs": [],
   "source": [
    "val symptoms = LowerCase.map(\"symptoms\") {text: String => symptomSet.filter(text.contains)}"
   ]
  },
  {
   "cell_type": "code",
   "execution_count": 6,
   "metadata": {
    "collapsed": true
   },
   "outputs": [],
   "source": [
    "val enriched = rdd.enrich(symptoms)"
   ]
  },
  {
   "cell_type": "code",
   "execution_count": 7,
   "metadata": {
    "collapsed": false
   },
   "outputs": [
    {
     "name": "stdout",
     "output_type": "stream",
     "text": [
      "{\n",
      "  \"record\":{\n",
      "    \"id\":\"journalofmedical2319alab\",\n",
      "    \"title\":\"Journal of the Medical Association of the State of Alabama\",\n",
      "    \"author\":[\n",
      "      \"Alabama State Board of Health\",\n",
      "      \"Medical Association of the State of Alabama\",\n",
      "      \"Medical Association of the State of Alabama. Board of Censors\",\n",
      "      \"Alabama. State Department of Health. Annual report\"\n",
      "    ],\n",
      "    \"date\":\"1954\",\n",
      "    \"subject\":[\n",
      "      \"Medicine;Periodicals;Alabama\"\n",
      "    ],\n",
      "    \"language\":[\n",
      "      \"eng\"\n",
      "    ],\n",
      "    \"mediatype\":[\n",
      "      \"texts\"\n",
      "    ],\n",
      "    \"collection\":[\n",
      "      \"francisacountwaylibrary\",\n",
      "      \"statemedicalsocietyjournals\",\n",
      "      \"medicalheritagelibrary\",\n",
      "      \"americana\"\n",
      "    ],\n",
      "    \"description\":[\n",
      "      \"Description based on: Vol. 1, no. 11 (May 1932); title from caption\",\n",
      "      \"Includes reports of the State Dept. of Health and rosters of the association's members\",\n",
      "      \"Cumulative index to nursing & allied health literature\",\n",
      "      \"Energy research abstracts\",\n",
      "      \"Excerpta medica\",\n",
      "      \"Hospital literature index\",\n",
      "      \"Issue for Mar. 1976 (v. 45, no. 9) misnumbered v. 45, no. 10\",\n",
      "      \"Journal also of the State Board of Health, July? 1931-Apr. 1932\"\n",
      "    ],\n",
      "    \"score\":0.017748069\n",
      "  },\n",
      "  \"text\":{\n",
      "    \"lowercase\":{\n",
      "      \"symptoms\":[\n",
      "        \"headache\",\n",
      "        \"neck\",\n",
      "        \"back\",\n",
      "        \"abdominal\",\n",
      "        \"extremity\",\n",
      "        \"fever\",\n",
      "        \"vomiting\",\n",
      "        \"irritability\"\n",
      "      ]\n",
      "    }\n",
      "  }\n",
      "}\n"
     ]
    }
   ],
   "source": [
    "println(enriched.peekJson)"
   ]
  },
  {
   "cell_type": "code",
   "execution_count": 8,
   "metadata": {
    "collapsed": false
   },
   "outputs": [],
   "source": [
    "val symptomCounts = enriched.flatMapValues(symptoms).countByValue"
   ]
  },
  {
   "cell_type": "code",
   "execution_count": 9,
   "metadata": {
    "collapsed": false
   },
   "outputs": [
    {
     "name": "stdout",
     "output_type": "stream",
     "text": [
      "(headache,2042)\n",
      "(abdominal,2042)\n",
      "(neck,2039)\n",
      "(vomiting,2037)\n",
      "(extremity,1942)\n",
      "(back,2050)\n",
      "(lethargy,1529)\n",
      "(fever,2047)\n",
      "(irritability,1939)\n"
     ]
    }
   ],
   "source": [
    "symptomCounts.foreach(println)"
   ]
  }
 ],
 "metadata": {
  "kernelspec": {
   "display_name": "MHLonArchiveSpark",
   "language": "",
   "name": "archivespark_mhl"
  },
  "language_info": {
   "name": "scala",
   "version": "2.11.8"
  }
 },
 "nbformat": 4,
 "nbformat_minor": 0
}
